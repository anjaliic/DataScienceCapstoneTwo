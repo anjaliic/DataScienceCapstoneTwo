{
 "cells": [
  {
   "cell_type": "code",
   "execution_count": 1,
   "metadata": {},
   "outputs": [],
   "source": [
    "# Import Libraries\n",
    "import requests\n",
    "import pandas as pd\n",
    "import matplotlib.pyplot as plt\n",
    "import datetime\n",
    "import numpy as np\n",
    "\n",
    "# Optional: Configure matplotlib for inline display in Jupyter\n",
    "%matplotlib inline"
   ]
  },
  {
   "cell_type": "code",
   "execution_count": 2,
   "metadata": {},
   "outputs": [
    {
     "name": "stdout",
     "output_type": "stream",
     "text": [
      "   Age  Gender    Income  Location Ad Type Ad Topic   Ad Placement  Clicks  \\\n",
      "0   61    Male  35717.43     Urban  Banner   Travel   Social Media       3   \n",
      "1   41    Male  47453.25     Rural   Video   Travel  Search Engine       5   \n",
      "2   49  Female  68126.35     Rural    Text     Food   Social Media       4   \n",
      "3   68  Female  64585.73  Suburban    Text   Health        Website       6   \n",
      "4   63    Male  21109.40     Urban  Native  Fashion  Search Engine       5   \n",
      "\n",
      "                   Click Time  Conversion Rate     CTR  \n",
      "0  2024-01-18 20:45:56.898459           0.0981  0.0737  \n",
      "1  2023-04-24 20:45:56.898459           0.0937  0.0592  \n",
      "2  2024-02-24 20:45:56.898459           0.1912  0.0563  \n",
      "3  2023-12-13 20:45:56.898459           0.1122  0.0232  \n",
      "4  2023-07-02 20:45:56.898459           0.1426  0.0539  \n"
     ]
    }
   ],
   "source": [
    "#create dataframe\n",
    "df= pd.read_csv('DataSet_Ads.csv')\n",
    "print(df.head())"
   ]
  },
  {
   "cell_type": "code",
   "execution_count": 3,
   "metadata": {},
   "outputs": [],
   "source": [
    "#convert Click Time column to datetime \n",
    "df['Click Time'] = pd.to_datetime(df['Click Time'])"
   ]
  },
  {
   "cell_type": "code",
   "execution_count": 4,
   "metadata": {},
   "outputs": [
    {
     "data": {
      "text/plain": [
       "Age                0\n",
       "Gender             0\n",
       "Income             0\n",
       "Location           0\n",
       "Ad Type            0\n",
       "Ad Topic           0\n",
       "Ad Placement       0\n",
       "Clicks             0\n",
       "Click Time         0\n",
       "Conversion Rate    0\n",
       "CTR                0\n",
       "dtype: int64"
      ]
     },
     "execution_count": 4,
     "metadata": {},
     "output_type": "execute_result"
    }
   ],
   "source": [
    "# Check for missing values\n",
    "df.isnull().sum()"
   ]
  },
  {
   "cell_type": "code",
   "execution_count": 5,
   "metadata": {},
   "outputs": [
    {
     "data": {
      "text/html": [
       "<div>\n",
       "<style scoped>\n",
       "    .dataframe tbody tr th:only-of-type {\n",
       "        vertical-align: middle;\n",
       "    }\n",
       "\n",
       "    .dataframe tbody tr th {\n",
       "        vertical-align: top;\n",
       "    }\n",
       "\n",
       "    .dataframe thead th {\n",
       "        text-align: right;\n",
       "    }\n",
       "</style>\n",
       "<table border=\"1\" class=\"dataframe\">\n",
       "  <thead>\n",
       "    <tr style=\"text-align: right;\">\n",
       "      <th></th>\n",
       "      <th>Age</th>\n",
       "      <th>Income</th>\n",
       "      <th>Clicks</th>\n",
       "      <th>Click Time</th>\n",
       "      <th>Conversion Rate</th>\n",
       "      <th>CTR</th>\n",
       "    </tr>\n",
       "  </thead>\n",
       "  <tbody>\n",
       "    <tr>\n",
       "      <th>count</th>\n",
       "      <td>10000.000000</td>\n",
       "      <td>10000.000000</td>\n",
       "      <td>10000.000000</td>\n",
       "      <td>10000</td>\n",
       "      <td>10000.000000</td>\n",
       "      <td>10000.000000</td>\n",
       "    </tr>\n",
       "    <tr>\n",
       "      <th>mean</th>\n",
       "      <td>34.235200</td>\n",
       "      <td>50080.040922</td>\n",
       "      <td>5.030600</td>\n",
       "      <td>2023-10-21 23:56:01.713264128</td>\n",
       "      <td>0.202246</td>\n",
       "      <td>0.050425</td>\n",
       "    </tr>\n",
       "    <tr>\n",
       "      <th>min</th>\n",
       "      <td>-21.000000</td>\n",
       "      <td>-38932.640000</td>\n",
       "      <td>0.000000</td>\n",
       "      <td>2023-04-22 20:45:56.899351</td>\n",
       "      <td>0.001000</td>\n",
       "      <td>0.000000</td>\n",
       "    </tr>\n",
       "    <tr>\n",
       "      <th>25%</th>\n",
       "      <td>24.000000</td>\n",
       "      <td>36892.040000</td>\n",
       "      <td>3.000000</td>\n",
       "      <td>2023-07-23 20:45:56.907425024</td>\n",
       "      <td>0.109500</td>\n",
       "      <td>0.037100</td>\n",
       "    </tr>\n",
       "    <tr>\n",
       "      <th>50%</th>\n",
       "      <td>34.000000</td>\n",
       "      <td>50122.520000</td>\n",
       "      <td>5.000000</td>\n",
       "      <td>2023-10-22 20:45:56.911939584</td>\n",
       "      <td>0.180650</td>\n",
       "      <td>0.050300</td>\n",
       "    </tr>\n",
       "    <tr>\n",
       "      <th>75%</th>\n",
       "      <td>44.000000</td>\n",
       "      <td>63271.342500</td>\n",
       "      <td>6.000000</td>\n",
       "      <td>2024-01-19 20:45:56.915853824</td>\n",
       "      <td>0.275100</td>\n",
       "      <td>0.063700</td>\n",
       "    </tr>\n",
       "    <tr>\n",
       "      <th>max</th>\n",
       "      <td>92.000000</td>\n",
       "      <td>126635.800000</td>\n",
       "      <td>17.000000</td>\n",
       "      <td>2024-04-19 20:45:56.927349</td>\n",
       "      <td>0.731700</td>\n",
       "      <td>0.127200</td>\n",
       "    </tr>\n",
       "    <tr>\n",
       "      <th>std</th>\n",
       "      <td>14.790752</td>\n",
       "      <td>19935.832667</td>\n",
       "      <td>2.258046</td>\n",
       "      <td>NaN</td>\n",
       "      <td>0.121094</td>\n",
       "      <td>0.019821</td>\n",
       "    </tr>\n",
       "  </tbody>\n",
       "</table>\n",
       "</div>"
      ],
      "text/plain": [
       "                Age         Income        Clicks  \\\n",
       "count  10000.000000   10000.000000  10000.000000   \n",
       "mean      34.235200   50080.040922      5.030600   \n",
       "min      -21.000000  -38932.640000      0.000000   \n",
       "25%       24.000000   36892.040000      3.000000   \n",
       "50%       34.000000   50122.520000      5.000000   \n",
       "75%       44.000000   63271.342500      6.000000   \n",
       "max       92.000000  126635.800000     17.000000   \n",
       "std       14.790752   19935.832667      2.258046   \n",
       "\n",
       "                          Click Time  Conversion Rate           CTR  \n",
       "count                          10000     10000.000000  10000.000000  \n",
       "mean   2023-10-21 23:56:01.713264128         0.202246      0.050425  \n",
       "min       2023-04-22 20:45:56.899351         0.001000      0.000000  \n",
       "25%    2023-07-23 20:45:56.907425024         0.109500      0.037100  \n",
       "50%    2023-10-22 20:45:56.911939584         0.180650      0.050300  \n",
       "75%    2024-01-19 20:45:56.915853824         0.275100      0.063700  \n",
       "max       2024-04-19 20:45:56.927349         0.731700      0.127200  \n",
       "std                              NaN         0.121094      0.019821  "
      ]
     },
     "execution_count": 5,
     "metadata": {},
     "output_type": "execute_result"
    }
   ],
   "source": [
    "#summary statistics\n",
    "df.describe()"
   ]
  },
  {
   "cell_type": "code",
   "execution_count": 6,
   "metadata": {},
   "outputs": [
    {
     "data": {
      "text/plain": [
       "Age                         int64\n",
       "Gender                     object\n",
       "Income                    float64\n",
       "Location                   object\n",
       "Ad Type                    object\n",
       "Ad Topic                   object\n",
       "Ad Placement               object\n",
       "Clicks                      int64\n",
       "Click Time         datetime64[ns]\n",
       "Conversion Rate           float64\n",
       "CTR                       float64\n",
       "dtype: object"
      ]
     },
     "execution_count": 6,
     "metadata": {},
     "output_type": "execute_result"
    }
   ],
   "source": [
    "df.dtypes"
   ]
  },
  {
   "cell_type": "code",
   "execution_count": 7,
   "metadata": {},
   "outputs": [
    {
     "data": {
      "text/html": [
       "<div>\n",
       "<style scoped>\n",
       "    .dataframe tbody tr th:only-of-type {\n",
       "        vertical-align: middle;\n",
       "    }\n",
       "\n",
       "    .dataframe tbody tr th {\n",
       "        vertical-align: top;\n",
       "    }\n",
       "\n",
       "    .dataframe thead th {\n",
       "        text-align: right;\n",
       "    }\n",
       "</style>\n",
       "<table border=\"1\" class=\"dataframe\">\n",
       "  <thead>\n",
       "    <tr style=\"text-align: right;\">\n",
       "      <th></th>\n",
       "      <th>Age</th>\n",
       "      <th>Income</th>\n",
       "      <th>Clicks</th>\n",
       "      <th>Click Time</th>\n",
       "      <th>Conversion Rate</th>\n",
       "      <th>CTR</th>\n",
       "    </tr>\n",
       "  </thead>\n",
       "  <tbody>\n",
       "    <tr>\n",
       "      <th>count</th>\n",
       "      <td>8630.000000</td>\n",
       "      <td>8630.000000</td>\n",
       "      <td>8630.000000</td>\n",
       "      <td>8630</td>\n",
       "      <td>8630.000000</td>\n",
       "      <td>8630.000000</td>\n",
       "    </tr>\n",
       "    <tr>\n",
       "      <th>mean</th>\n",
       "      <td>37.828389</td>\n",
       "      <td>50372.730817</td>\n",
       "      <td>5.031518</td>\n",
       "      <td>2023-10-21 15:31:05.047648</td>\n",
       "      <td>0.202096</td>\n",
       "      <td>0.050526</td>\n",
       "    </tr>\n",
       "    <tr>\n",
       "      <th>min</th>\n",
       "      <td>18.000000</td>\n",
       "      <td>165.210000</td>\n",
       "      <td>0.000000</td>\n",
       "      <td>2023-04-22 20:45:56.899351</td>\n",
       "      <td>0.001000</td>\n",
       "      <td>0.000000</td>\n",
       "    </tr>\n",
       "    <tr>\n",
       "      <th>25%</th>\n",
       "      <td>29.000000</td>\n",
       "      <td>36999.882500</td>\n",
       "      <td>3.000000</td>\n",
       "      <td>2023-07-23 20:45:56.908156160</td>\n",
       "      <td>0.108900</td>\n",
       "      <td>0.037100</td>\n",
       "    </tr>\n",
       "    <tr>\n",
       "      <th>50%</th>\n",
       "      <td>37.000000</td>\n",
       "      <td>50206.800000</td>\n",
       "      <td>5.000000</td>\n",
       "      <td>2023-10-22 20:45:56.905392128</td>\n",
       "      <td>0.180500</td>\n",
       "      <td>0.050400</td>\n",
       "    </tr>\n",
       "    <tr>\n",
       "      <th>75%</th>\n",
       "      <td>46.000000</td>\n",
       "      <td>63238.587500</td>\n",
       "      <td>6.000000</td>\n",
       "      <td>2024-01-18 20:45:56.912936960</td>\n",
       "      <td>0.275275</td>\n",
       "      <td>0.063900</td>\n",
       "    </tr>\n",
       "    <tr>\n",
       "      <th>max</th>\n",
       "      <td>92.000000</td>\n",
       "      <td>126635.800000</td>\n",
       "      <td>17.000000</td>\n",
       "      <td>2024-04-19 20:45:56.927349</td>\n",
       "      <td>0.685200</td>\n",
       "      <td>0.127200</td>\n",
       "    </tr>\n",
       "    <tr>\n",
       "      <th>std</th>\n",
       "      <td>12.123562</td>\n",
       "      <td>19510.294854</td>\n",
       "      <td>2.263995</td>\n",
       "      <td>NaN</td>\n",
       "      <td>0.121278</td>\n",
       "      <td>0.019905</td>\n",
       "    </tr>\n",
       "  </tbody>\n",
       "</table>\n",
       "</div>"
      ],
      "text/plain": [
       "               Age         Income       Clicks                     Click Time  \\\n",
       "count  8630.000000    8630.000000  8630.000000                           8630   \n",
       "mean     37.828389   50372.730817     5.031518     2023-10-21 15:31:05.047648   \n",
       "min      18.000000     165.210000     0.000000     2023-04-22 20:45:56.899351   \n",
       "25%      29.000000   36999.882500     3.000000  2023-07-23 20:45:56.908156160   \n",
       "50%      37.000000   50206.800000     5.000000  2023-10-22 20:45:56.905392128   \n",
       "75%      46.000000   63238.587500     6.000000  2024-01-18 20:45:56.912936960   \n",
       "max      92.000000  126635.800000    17.000000     2024-04-19 20:45:56.927349   \n",
       "std      12.123562   19510.294854     2.263995                            NaN   \n",
       "\n",
       "       Conversion Rate          CTR  \n",
       "count      8630.000000  8630.000000  \n",
       "mean          0.202096     0.050526  \n",
       "min           0.001000     0.000000  \n",
       "25%           0.108900     0.037100  \n",
       "50%           0.180500     0.050400  \n",
       "75%           0.275275     0.063900  \n",
       "max           0.685200     0.127200  \n",
       "std           0.121278     0.019905  "
      ]
     },
     "execution_count": 7,
     "metadata": {},
     "output_type": "execute_result"
    }
   ],
   "source": [
    "#Drop values of those under 18 years old \n",
    "df.drop(df[df['Age'] < 18].index, inplace = True)\n",
    "\n",
    "#Drop values of those with negative income\n",
    "df.drop(df[df['Income'] < 0].index, inplace = True)\n",
    "\n",
    "df.describe()"
   ]
  },
  {
   "cell_type": "code",
   "execution_count": 8,
   "metadata": {},
   "outputs": [
    {
     "name": "stdout",
     "output_type": "stream",
     "text": [
      "      Age  Location  Gender    Ad Topic    Income\n",
      "2002   35  Suburban    Male      Health  22381.52\n",
      "4273   35     Rural    Male      Travel  22381.52\n",
      "3226   51     Rural  Female  Technology  33442.76\n",
      "3980   48     Rural    Male      Travel  33442.76\n",
      "745    43  Suburban  Female      Health  54329.15\n",
      "1517   33     Rural   Other        Food  54329.15\n",
      "849    35  Suburban    Male      Health  68381.54\n",
      "6541   31  Suburban    Male     Fashion  68381.54\n"
     ]
    }
   ],
   "source": [
    "#Find income duplicates\n",
    "duplicates = df.duplicated('Income', keep=False)\n",
    "\n",
    "#sort duplicates\n",
    "duplicated_incomes = df[duplicates].sort_values('Income')\n",
    "\n",
    "#Check other columns\n",
    "print(duplicated_incomes[['Age','Location','Gender','Ad Topic','Income']])\n",
    "\n",
    "#No real duplicates"
   ]
  },
  {
   "cell_type": "code",
   "execution_count": 9,
   "metadata": {},
   "outputs": [
    {
     "data": {
      "image/png": "[encoded data removed]",
      "text/plain": [
       "<Figure size 1000x700 with 1 Axes>"
      ]
     },
     "metadata": {},
     "output_type": "display_data"
    }
   ],
   "source": [
    "fig = plt.figure(figsize =(10, 7))\n",
    "\n",
    "# Creating plot\n",
    "plt.scatter(df['Income'], df['Age'])\n",
    "\n",
    "# show plot\n",
    "plt.show()\n",
    "\n",
    "#No significant outliers"
   ]
  },
  {
   "cell_type": "code",
   "execution_count": 10,
   "metadata": {},
   "outputs": [],
   "source": [
    "#Save Data to CSV \n",
    "\n",
    "df.to_csv('Dataset_Ads_Clean.csv')"
   ]
  }
 ],
 "metadata": {
  "kernelspec": {
   "display_name": "base",
   "language": "python",
   "name": "python3"
  },
  "language_info": {
   "codemirror_mode": {
    "name": "ipython",
    "version": 3
   },
   "file_extension": ".py",
   "mimetype": "text/x-python",
   "name": "python",
   "nbconvert_exporter": "python",
   "pygments_lexer": "ipython3",
   "version": "3.12.2"
  }
 },
 "nbformat": 4,
 "nbformat_minor": 2
}
